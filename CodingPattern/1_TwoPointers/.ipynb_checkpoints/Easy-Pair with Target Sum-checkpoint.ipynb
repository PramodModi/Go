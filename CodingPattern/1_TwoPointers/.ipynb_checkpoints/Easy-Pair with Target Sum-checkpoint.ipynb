{
 "cells": [
  {
   "cell_type": "markdown",
   "id": "d2acb59b",
   "metadata": {},
   "source": [
    "## Problem: Find pair with Target Sum\n",
    "\n",
    "Given an array of numbers sorted in ascending order and a target sum, find a pair in the array whose sum is equal to the given target.\n",
    "\n",
    "Write a function to return the indices of the two numbers (i.e. the pair) such that they add up to the given target.\n",
    "\n",
    "Example 1:s\n",
    "\n",
    "    Input: [1, 2, 3, 4, 6], target=6\n",
    "    Output: [1, 3]\n",
    "    Explanation: The numbers at index 1 and 3 add up to 6: 2+4=6\n",
    "Example 2:\n",
    "\n",
    "    Input: [2, 5, 9, 11], target=11\n",
    "    Output: [0, 2]\n",
    "    Explanation: The numbers at index 0 and 2 add up to 11: 2+9=11\n"
   ]
  },
  {
   "cell_type": "raw",
   "id": "7a302ba4",
   "metadata": {},
   "source": [
    "Approach:\n",
    "As array is sorted. So this can be done with O(1) space complexity. Use the Two pointers. Left and right starts from 0th and last index.\n",
    "If sum of numbers at position of left and right pointers are greater than Target, so we need to reduce the sum, hence take one smaller iterm.This can be done by reducing the right position by 1. If sum is smaller than Target then need to take one bigger number. This can be done by moving left pointer by 1.\n",
    "If sum is equal to the Target, then return the left and right pinters."
   ]
  },
  {
   "cell_type": "code",
   "execution_count": 7,
   "id": "4b7b55ad",
   "metadata": {},
   "outputs": [],
   "source": [
    "def pairWithTargetSum(nums, target):\n",
    "    left, right = 0, len(nums)-1\n",
    "    while left< right:\n",
    "        if nums[left] + nums[right] > target:\n",
    "            right -= 1\n",
    "        elif nums[left] + nums[right] < target:\n",
    "            left += 1\n",
    "        else:\n",
    "            return [left, right]\n",
    "    return [-1,-1]"
   ]
  },
  {
   "cell_type": "code",
   "execution_count": 8,
   "id": "26cee420",
   "metadata": {},
   "outputs": [
    {
     "data": {
      "text/plain": [
       "[1, 3]"
      ]
     },
     "execution_count": 8,
     "metadata": {},
     "output_type": "execute_result"
    }
   ],
   "source": [
    "nums = [1, 2, 3, 4, 6]\n",
    "target=6\n",
    "pairWithTargetSum(nums, target)"
   ]
  },
  {
   "cell_type": "code",
   "execution_count": 9,
   "id": "266a64bc",
   "metadata": {},
   "outputs": [
    {
     "data": {
      "text/plain": [
       "[0, 2]"
      ]
     },
     "execution_count": 9,
     "metadata": {},
     "output_type": "execute_result"
    }
   ],
   "source": [
    "nums = [2, 5, 9, 11]\n",
    "target=11\n",
    "pairWithTargetSum(nums, target)"
   ]
  },
  {
   "cell_type": "code",
   "execution_count": null,
   "id": "28d3bd9c",
   "metadata": {},
   "outputs": [],
   "source": []
  }
 ],
 "metadata": {
  "kernelspec": {
   "display_name": "Python 3",
   "language": "python",
   "name": "python3"
  },
  "language_info": {
   "codemirror_mode": {
    "name": "ipython",
    "version": 3
   },
   "file_extension": ".py",
   "mimetype": "text/x-python",
   "name": "python",
   "nbconvert_exporter": "python",
   "pygments_lexer": "ipython3",
   "version": "3.8.8"
  }
 },
 "nbformat": 4,
 "nbformat_minor": 5
}
